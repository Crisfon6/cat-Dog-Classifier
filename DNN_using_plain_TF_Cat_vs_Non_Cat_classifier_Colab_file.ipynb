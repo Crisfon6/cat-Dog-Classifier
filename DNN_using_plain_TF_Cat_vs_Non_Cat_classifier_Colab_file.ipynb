{
  "nbformat": 4,
  "nbformat_minor": 0,
  "metadata": {
    "colab": {
      "name": "DNN using plain TF - Cat vs Non Cat classifier_full_file.ipynb",
      "version": "0.3.2",
      "provenance": [],
      "collapsed_sections": [],
      "toc_visible": true
    },
    "kernelspec": {
      "display_name": "Python 3",
      "language": "python",
      "name": "python3"
    },
    "accelerator": "GPU"
  },
  "cells": [
    {
      "metadata": {
        "id": "yLdPPrt9QBvH",
        "colab_type": "code",
        "colab": {}
      },
      "cell_type": "code",
      "source": [
        "import tensorflow as tf\n",
        "import numpy as np\n",
        "import matplotlib.pyplot as plt\n",
        "from tensorflow.contrib.layers import fully_connected, l2_regularizer\n",
        "from tensorflow.contrib.framework import arg_scope\n",
        "import h5py\n",
        "import math\n",
        "\n",
        "%matplotlib inline"
      ],
      "execution_count": 0,
      "outputs": []
    },
    {
      "metadata": {
        "id": "R-AHlbyvQBvP",
        "colab_type": "text"
      },
      "cell_type": "markdown",
      "source": [
        "### Utility functions ###"
      ]
    },
    {
      "metadata": {
        "id": "yvqXMJ_yQBvQ",
        "colab_type": "code",
        "colab": {}
      },
      "cell_type": "code",
      "source": [
        "def load_dataset_cat_vs_non_cat():\n",
        "    \n",
        "    # h5py.File() returns a File object. \n",
        "    train_dataset = h5py.File('drive/DeepLearning/Datasets/Coursera_Cat_Vs_NonCat/coursera_catvnoncat_train.h5', mode = 'r')\n",
        "    test_dataset = h5py.File('drive/DeepLearning/Datasets/Coursera_Cat_Vs_NonCat/coursera_catvnoncat_test.h5', mode = 'r')\n",
        "    #print(type(train_dataset)) # Prints <class 'h5py._hl.files.File'>\n",
        "    \n",
        "    #Check the contents of the File object. h5py File acts like a dictionary. So, we can list the keys it contains\n",
        "    #print(list(train_dataset.keys()))\n",
        "    #print(list(test_dataset.keys()))\n",
        "    \n",
        "    train_set_x_orig = np.array(train_dataset['train_set_x'][:])\n",
        "    train_set_y_orig = np.array(train_dataset['train_set_y'][:])\n",
        "    \n",
        "    test_set_x_orig = np.array(test_dataset['test_set_x'][:])\n",
        "    test_set_y_orig = np.array(test_dataset['test_set_y'][:])\n",
        "    \n",
        "    #Since both train and test classes contain the same two classes just returning back one of them\n",
        "    classes = np.array(test_dataset['list_classes'][:])\n",
        "    \n",
        "    train_set_y_orig = train_set_y_orig.reshape(train_set_y_orig.shape[0], 1)\n",
        "    test_set_y_orig = test_set_y_orig.reshape(test_set_y_orig.shape[0], 1)\n",
        "    \n",
        "    return train_set_x_orig, train_set_y_orig, test_set_x_orig, test_set_y_orig, classes"
      ],
      "execution_count": 0,
      "outputs": []
    },
    {
      "metadata": {
        "id": "Or4gFfFYQBvW",
        "colab_type": "code",
        "colab": {}
      },
      "cell_type": "code",
      "source": [
        "def create_random_mini_batches(X, Y, mini_batch_size = 32):\n",
        "    \n",
        "    n_samples = X.shape[0]                  \n",
        "    mini_batches = []\n",
        "    \n",
        "    p = list(np.random.permutation(int(n_samples)))\n",
        "    X_shuffled = X[p, :]\n",
        "    Y_shuffled = Y[p, :]\n",
        "    \n",
        "    n_mini_batches = math.floor(n_samples / mini_batch_size)\n",
        "    for i in range(n_mini_batches):\n",
        "        \n",
        "        start_pos = i * mini_batch_size\n",
        "        end_pos = start_pos + mini_batch_size\n",
        "        \n",
        "        X_mini_batch = X_shuffled[start_pos : end_pos, :]\n",
        "        Y_mini_batch = Y_shuffled[start_pos : end_pos, :]\n",
        "         \n",
        "        mini_batch = (X_mini_batch, Y_mini_batch)\n",
        "        mini_batches.append(mini_batch)\n",
        "    \n",
        "    if n_samples % mini_batch_size != 0:\n",
        "        \n",
        "        start_pos = n_mini_batches * mini_batch_size\n",
        "        \n",
        "        X_mini_batch = X_shuffled[start_pos : n_samples, :]\n",
        "        Y_mini_batch = Y_shuffled[start_pos : n_samples, :]\n",
        "        \n",
        "        mini_batch = (X_mini_batch, Y_mini_batch)\n",
        "        mini_batches.append(mini_batch)\n",
        "    \n",
        "    return mini_batches"
      ],
      "execution_count": 0,
      "outputs": []
    },
    {
      "metadata": {
        "id": "7wY2mevIQBvb",
        "colab_type": "text"
      },
      "cell_type": "markdown",
      "source": [
        "### Load the dataset"
      ]
    },
    {
      "metadata": {
        "id": "WrJCmR7DQBvd",
        "colab_type": "code",
        "colab": {
          "base_uri": "https://localhost:8080/",
          "height": 105
        },
        "outputId": "250bf73b-0e1c-4421-8f5b-7f1bf0ed227f"
      },
      "cell_type": "code",
      "source": [
        "X_train_orig, Y_train, X_test_orig, Y_test, classes = load_dataset_cat_vs_non_cat()\n",
        "\n",
        "print('Train X shape', X_train_orig.shape)\n",
        "print('Train Y shape', Y_train.shape)\n",
        "print('Test X shape', X_test_orig.shape)\n",
        "print('Test Y shape', Y_test.shape)\n",
        "print('Classes shape', classes.shape)"
      ],
      "execution_count": 0,
      "outputs": [
        {
          "output_type": "stream",
          "text": [
            "Train X shape (209, 64, 64, 3)\n",
            "Train Y shape (209, 1)\n",
            "Test X shape (50, 64, 64, 3)\n",
            "Test Y shape (50, 1)\n",
            "Classes shape (2,)\n"
          ],
          "name": "stdout"
        }
      ]
    },
    {
      "metadata": {
        "id": "ouWnfr29QBvj",
        "colab_type": "text"
      },
      "cell_type": "markdown",
      "source": [
        "### Check out some of the data and it's label"
      ]
    },
    {
      "metadata": {
        "id": "JDVwo01iQBvk",
        "colab_type": "code",
        "colab": {
          "base_uri": "https://localhost:8080/",
          "height": 298
        },
        "outputId": "2298cb06-ade6-4224-b724-ddc94ac7e1af"
      },
      "cell_type": "code",
      "source": [
        "index = 50\n",
        "\n",
        "plt.imshow(X_train_orig[index])\n",
        "plt.title('label = ' + str(np.squeeze(Y_train[index])))"
      ],
      "execution_count": 0,
      "outputs": [
        {
          "output_type": "execute_result",
          "data": {
            "text/plain": [
              "Text(0.5,1,'label = 1')"
            ]
          },
          "metadata": {
            "tags": []
          },
          "execution_count": 5
        },
        {
          "output_type": "display_data",
          "data": {
            "image/png": "[encoded data removed]",
            "text/plain": [
              "<matplotlib.figure.Figure at 0x7f25bceab898>"
            ]
          },
          "metadata": {
            "tags": []
          }
        }
      ]
    },
    {
      "metadata": {
        "id": "HcotG-ViQBvo",
        "colab_type": "text"
      },
      "cell_type": "markdown",
      "source": [
        "### Pre-process the data\n",
        "\n",
        "**Normalize** - Normalize the data by dividing the matrix by 255. This should scale all the pixel values between 0 and 1.\n",
        "\n",
        "**Reshape the data** - Reshape the image data from shape (n_samples, n_px, n_px, 3), where 3 stands for RGB channels to the shape (n_samples, n_px \\* n_px \\* 3). We are rolling up the image into a feature vector of size n_px \\* n_px \\* 3.\n",
        "\n",
        "X shape after reshaping would be (n_samples, n_px \\* n_px \\* 3)"
      ]
    },
    {
      "metadata": {
        "id": "QGgXciJ3QBvp",
        "colab_type": "code",
        "colab": {
          "base_uri": "https://localhost:8080/",
          "height": 52
        },
        "outputId": "579fdf39-25fd-42f6-d1a7-ca4785fcfd12"
      },
      "cell_type": "code",
      "source": [
        "#Normalize the data set\n",
        "X_train = X_train_orig / 255\n",
        "X_test = X_test_orig / 255\n",
        "\n",
        "#Reshape the data set\n",
        "X_train = X_train.reshape(X_train.shape[0], -1)\n",
        "X_test = X_test.reshape(X_test.shape[0], -1)\n",
        "\n",
        "print('X train shape after reshaping =', X_train.shape)\n",
        "print('X test shape after reshaping = ', X_test.shape)"
      ],
      "execution_count": 0,
      "outputs": [
        {
          "output_type": "stream",
          "text": [
            "X train shape after reshaping = (209, 12288)\n",
            "X test shape after reshaping =  (50, 12288)\n"
          ],
          "name": "stdout"
        }
      ]
    },
    {
      "metadata": {
        "id": "zmVPPfy3QBvu",
        "colab_type": "text"
      },
      "cell_type": "markdown",
      "source": [
        "### Build the DNN using plain TensorFlow\n",
        "\n",
        "**Step 1 - Code the individual ops in the computation graph**\n",
        "- Create Placeholders for X, Y\n",
        "- Create the nn_model - all the layers and initialize them\n",
        "- Compute the cost\n",
        "- Create the optimizer to minimize the cost\n",
        "- Evaluate the model\n",
        "\n",
        "**Step 2 - Build the computation graph**\n",
        "- Combine all the steps in Step 1 to build the computation graph\n",
        "- Initialize the variables\n",
        "- Create a Saver object to save the learnt parameters after the model is trained\n",
        "\n",
        "**Step 3 - Execute the graph**\n",
        "- Create mini batches so that gradient descent works on these mini batches for every step instead of all instances\n",
        "- Train the model for a given number of epochs\n",
        "- Print the cost, train accuracy & test accuracy at regular interval of epochs\n",
        "- Plot the training error (cost) vs epochs\n",
        "- Save the parameters\n",
        "\n",
        "**Step 4 - Predict for any data**\n",
        "- Build a method to pass random data for the model to predict based on the parameters learnt through training"
      ]
    },
    {
      "metadata": {
        "id": "33nKSAZ7QBvw",
        "colab_type": "text"
      },
      "cell_type": "markdown",
      "source": [
        "### Create the placeholders"
      ]
    },
    {
      "metadata": {
        "id": "roKQIFLmQBvw",
        "colab_type": "code",
        "colab": {}
      },
      "cell_type": "code",
      "source": [
        "def create_placeholders(n_inputs):\n",
        "    '''\n",
        "    n_inputs - A scalar containing the number of input features\n",
        "    '''\n",
        "    \n",
        "    X = tf.placeholder(tf.float32, shape = (None, n_inputs), name = 'X')\n",
        "    Y = tf.placeholder(tf.float32, shape = (None, 1), name = 'Y')\n",
        "    \n",
        "    return X, Y"
      ],
      "execution_count": 0,
      "outputs": []
    },
    {
      "metadata": {
        "id": "Zs93bCwSQBvz",
        "colab_type": "text"
      },
      "cell_type": "markdown",
      "source": [
        "### Create the NN model"
      ]
    },
    {
      "metadata": {
        "id": "VdjxbS0PQBv0",
        "colab_type": "code",
        "colab": {}
      },
      "cell_type": "code",
      "source": [
        "def nn_model(X, n_neurons):\n",
        "    '''\n",
        "    X - input Tensor X\n",
        "    n_neurons - A scalar containing the number of neurons in each layer including both hidden layers and output layer \n",
        "    '''\n",
        "    with arg_scope([fully_connected], weights_regularizer = l2_regularizer(scale = 0.01)):\n",
        "        hidden_layer_1 = fully_connected(X, n_neurons['hidden_layer_1'], scope = 'hidden_layer_1')\n",
        "        hidden_layer_2 = fully_connected(hidden_layer_1, n_neurons['hidden_layer_2'], scope = 'hidden_layer_2')\n",
        "        hidden_layer_3 = fully_connected(hidden_layer_2, n_neurons['hidden_layer_3'], scope = 'hidden_layer_3')\n",
        "        logits = fully_connected(hidden_layer_3, n_neurons['output_layer'], activation_fn = None, scope = 'output_layer')\n",
        "    \n",
        "    return logits"
      ],
      "execution_count": 0,
      "outputs": []
    },
    {
      "metadata": {
        "id": "4xG6oE5QQBv3",
        "colab_type": "text"
      },
      "cell_type": "markdown",
      "source": [
        "### Compute the cost"
      ]
    },
    {
      "metadata": {
        "id": "owbWyo8MQBv3",
        "colab_type": "code",
        "colab": {}
      },
      "cell_type": "code",
      "source": [
        "def compute_cost(labels, logits):\n",
        "    '''\n",
        "    labels - label tensor Y\n",
        "    logits - Tensor containing the values of the output layer before passing to the activation function\n",
        "    '''\n",
        "    \n",
        "    cross_entropy = tf.nn.sigmoid_cross_entropy_with_logits(labels = labels, logits = logits)\n",
        "    base_cost = tf.reduce_mean(cross_entropy)\n",
        "    reg_losses = tf.get_collection(tf.GraphKeys.REGULARIZATION_LOSSES)\n",
        "    cost = tf.add_n([base_cost] + reg_losses, name = 'cost')\n",
        "    \n",
        "    return cost"
      ],
      "execution_count": 0,
      "outputs": []
    },
    {
      "metadata": {
        "id": "aT_Z7ucjQBv9",
        "colab_type": "text"
      },
      "cell_type": "markdown",
      "source": [
        "### Create the optimizer and the training operation"
      ]
    },
    {
      "metadata": {
        "id": "sgN_NZmqQBv9",
        "colab_type": "code",
        "colab": {}
      },
      "cell_type": "code",
      "source": [
        "def optimizer(learning_rate, cost):\n",
        "    '''\n",
        "    learning_rate - A scalar value containing the learning rate for the backpropagation step\n",
        "    cost - Overall cost from the forward propagation step for one set of mini batch instance\n",
        "    '''\n",
        "    \n",
        "    optimizer = tf.train.AdamOptimizer(learning_rate)\n",
        "    training_op = optimizer.minimize(cost)\n",
        "    \n",
        "    return training_op"
      ],
      "execution_count": 0,
      "outputs": []
    },
    {
      "metadata": {
        "id": "YuIiWx1KQBwC",
        "colab_type": "text"
      },
      "cell_type": "markdown",
      "source": [
        "### Evaluate the model\n",
        "\n",
        "We will use accuracy as the evaluation metric"
      ]
    },
    {
      "metadata": {
        "id": "ONB4mLecQBwE",
        "colab_type": "code",
        "colab": {}
      },
      "cell_type": "code",
      "source": [
        "def evaluate_model(logits, Y):\n",
        "    '''\n",
        "    logits - An array containing the values from the output layer\n",
        "    Y - An array containing the labels\n",
        "    '''\n",
        "    \n",
        "    #Compute the probability using the sigmoid function\n",
        "    y_pred = tf.nn.sigmoid(logits)\n",
        "    #Convert it to 0 or 1 class based on the probability and cast it to integer\n",
        "    y_pred = tf.cast(y_pred > 0.5, tf.int64)\n",
        "    \n",
        "    #Create a boolean tensor by comparing the model prediction against the labels\n",
        "    correct_prediction = tf.equal(y_pred, tf.cast(Y, tf.int64))\n",
        "    #Compute the accuracy across all the instances\n",
        "    accuracy = tf.reduce_mean(tf.cast(correct_prediction, tf.float32))\n",
        "    \n",
        "    return accuracy"
      ],
      "execution_count": 0,
      "outputs": []
    },
    {
      "metadata": {
        "id": "TuDutilmQBwG",
        "colab_type": "text"
      },
      "cell_type": "markdown",
      "source": [
        "### Build the computation graph & execute it"
      ]
    },
    {
      "metadata": {
        "id": "Hq2M8dQgQBwI",
        "colab_type": "code",
        "colab": {}
      },
      "cell_type": "code",
      "source": [
        "def train_model(X_train, Y_train, X_test, Y_test, n_neurons, \n",
        "               learning_rate = 0.01, mini_batch_size = 64, n_epochs = 50, print_cost = False):\n",
        "    \n",
        "    tf.reset_default_graph()\n",
        "    \n",
        "    #Declare and initialize the required variables\n",
        "    (n_samples, n_inputs) = X_train.shape\n",
        "    costs = []\n",
        "    \n",
        "    #Create Placeholder\n",
        "    X, Y = create_placeholders(n_inputs)\n",
        "    \n",
        "    #Create the nn_model\n",
        "    logits = nn_model(X, n_neurons) \n",
        "    \n",
        "    #Compute the cost\n",
        "    cost = compute_cost(Y, logits)\n",
        "    \n",
        "    #Optimize the cost using Gradient Descent Optimizer\n",
        "    training_op = optimizer(learning_rate, cost)\n",
        "    \n",
        "    #Evaluate the model\n",
        "    accuracy = evaluate_model(logits, Y)\n",
        "    \n",
        "    #Initialize the variables\n",
        "    init = tf.global_variables_initializer()\n",
        "    \n",
        "    #Create the Saver object\n",
        "    saver = tf.train.Saver()\n",
        "    \n",
        "    #Execute the Graph - Train the model\n",
        "    with tf.Session() as sess:\n",
        "        init.run()\n",
        "        \n",
        "        n_mini_batches = int(n_samples / mini_batch_size)\n",
        "        \n",
        "        for epoch in range(1, n_epochs + 1):\n",
        "            epoch_cost = 0\n",
        "            mini_batches = create_random_mini_batches(X_train, Y_train, mini_batch_size)\n",
        "            \n",
        "            for mini_batch in mini_batches:\n",
        "                (X_mini_batch, Y_mini_batch) = mini_batch\n",
        "                _, mini_batch_cost = sess.run([training_op, cost], feed_dict = {X: X_mini_batch, Y: Y_mini_batch})\n",
        "                \n",
        "                epoch_cost += mini_batch_cost\n",
        "            \n",
        "            epoch_cost = epoch_cost / n_mini_batches\n",
        "            train_accuracy = accuracy.eval(feed_dict = {X: X_train, Y: Y_train})\n",
        "            test_accuracy = accuracy.eval(feed_dict = {X: X_test, Y: Y_test})\n",
        "            \n",
        "            if print_cost and epoch % 100 == 0:\n",
        "                print('At epoch', epoch, 'Cost =', epoch_cost, '| Train Accuracy =', train_accuracy, \n",
        "                      '| Test Accuracy =', test_accuracy)\n",
        "            \n",
        "            if epoch % 10 == 0:\n",
        "                costs.append(epoch_cost)\n",
        "            \n",
        "        saver_path = saver.save(sess, './my_model_final.ckpt')\n",
        "        \n",
        "    print('Final - Train Accuracy =', train_accuracy, '| Test Accuracy =', test_accuracy)\n",
        "        \n",
        "    plt.plot(costs)\n",
        "    plt.xlabel('# of Epochs (in tens)')\n",
        "    plt.ylabel('Training Error - Cost')\n",
        "    plt.title('Training Error Vs Epochs')\n",
        "    plt.show()\n",
        "    \n",
        "    return saver_path"
      ],
      "execution_count": 0,
      "outputs": []
    },
    {
      "metadata": {
        "id": "itQBdOqAQBwM",
        "colab_type": "code",
        "colab": {
          "base_uri": "https://localhost:8080/",
          "height": 505
        },
        "outputId": "adf784a2-7635-46e4-c7b7-e1296d0af4f8"
      },
      "cell_type": "code",
      "source": [
        "n_neurons = {'hidden_layer_1': 100,\n",
        "            'hidden_layer_2': 50,\n",
        "            'hidden_layer_3': 10, \n",
        "            'output_layer': 1}\n",
        "train_model(X_train, Y_train, X_test, Y_test, n_neurons, learning_rate = 0.0001, n_epochs = 1000, mini_batch_size = 32,\n",
        "            print_cost = True)"
      ],
      "execution_count": 0,
      "outputs": [
        {
          "output_type": "stream",
          "text": [
            "At epoch 100 Cost = 0.7360601524511973 | Train Accuracy = 1.0 | Test Accuracy = 0.72\n",
            "At epoch 200 Cost = 0.43206074337164563 | Train Accuracy = 1.0 | Test Accuracy = 0.74\n",
            "At epoch 300 Cost = 0.2744187464316686 | Train Accuracy = 1.0 | Test Accuracy = 0.76\n",
            "At epoch 400 Cost = 0.22603609164555868 | Train Accuracy = 1.0 | Test Accuracy = 0.72\n",
            "At epoch 500 Cost = 0.18692433585723242 | Train Accuracy = 1.0 | Test Accuracy = 0.76\n",
            "At epoch 600 Cost = 0.15907503912846246 | Train Accuracy = 1.0 | Test Accuracy = 0.74\n",
            "At epoch 700 Cost = 0.1371767856180668 | Train Accuracy = 1.0 | Test Accuracy = 0.76\n",
            "At epoch 800 Cost = 0.11896992474794388 | Train Accuracy = 1.0 | Test Accuracy = 0.74\n",
            "At epoch 900 Cost = 0.12237856909632683 | Train Accuracy = 1.0 | Test Accuracy = 0.74\n",
            "At epoch 1000 Cost = 0.11347636828819911 | Train Accuracy = 1.0 | Test Accuracy = 0.76\n",
            "Final - Train Accuracy = 1.0 | Test Accuracy = 0.76\n"
          ],
          "name": "stdout"
        },
        {
          "output_type": "display_data",
          "data": {
            "image/png": "[encoded data removed]",
            "text/plain": [
              "<matplotlib.figure.Figure at 0x7f25b9b36780>"
            ]
          },
          "metadata": {
            "tags": []
          }
        },
        {
          "output_type": "execute_result",
          "data": {
            "text/plain": [
              "'./my_model_final.ckpt'"
            ]
          },
          "metadata": {
            "tags": []
          },
          "execution_count": 13
        }
      ]
    },
    {
      "metadata": {
        "id": "DxgtY_NQQBwP",
        "colab_type": "code",
        "colab": {}
      },
      "cell_type": "code",
      "source": [
        ""
      ],
      "execution_count": 0,
      "outputs": []
    }
  ]
}